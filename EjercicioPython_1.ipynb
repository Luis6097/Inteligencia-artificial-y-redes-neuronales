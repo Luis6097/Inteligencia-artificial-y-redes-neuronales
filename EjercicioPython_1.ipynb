{
  "nbformat": 4,
  "nbformat_minor": 0,
  "metadata": {
    "colab": {
      "provenance": [],
      "authorship_tag": "ABX9TyMzp8GBv48948Etzc+RWcqJ",
      "include_colab_link": true
    },
    "kernelspec": {
      "name": "python3",
      "display_name": "Python 3"
    },
    "language_info": {
      "name": "python"
    }
  },
  "cells": [
    {
      "cell_type": "markdown",
      "metadata": {
        "id": "view-in-github",
        "colab_type": "text"
      },
      "source": [
        "<a href=\"https://colab.research.google.com/github/Luis6097/Inteligencia-artificial-y-redes-neuronales/blob/main/EjercicioPython_1.ipynb\" target=\"_parent\"><img src=\"https://colab.research.google.com/assets/colab-badge.svg\" alt=\"Open In Colab\"/></a>"
      ]
    },
    {
      "cell_type": "code",
      "source": [
        "def saludar():\n",
        "    nombre = input(\"Por favor, ingrese su nombre: \")\n",
        "\n",
        "    if nombre in [\"ana\", \"juan\", \"pedro\"]:\n",
        "        print(\"¡Hola! Bienvenido.\")\n",
        "    else:\n",
        "        print(\"¡Hola\", nombre + \"!\", \"Bienvenido.\")\n",
        "\n",
        "saludar()"
      ],
      "metadata": {
        "colab": {
          "base_uri": "https://localhost:8080/"
        },
        "id": "REcOIeS4hf4O",
        "outputId": "efae1667-2582-4b69-a5d0-b84a3af37dc5"
      },
      "execution_count": 6,
      "outputs": [
        {
          "output_type": "stream",
          "name": "stdout",
          "text": [
            "Por favor, ingrese su nombre: hola\n",
            "¡Hola hola! Bienvenido.\n"
          ]
        }
      ]
    }
  ]
}