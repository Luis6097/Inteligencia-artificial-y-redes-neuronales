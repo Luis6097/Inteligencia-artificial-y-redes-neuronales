{
  "nbformat": 4,
  "nbformat_minor": 0,
  "metadata": {
    "colab": {
      "provenance": [],
      "authorship_tag": "ABX9TyNY2ra73nYTiGFPeU4fiMB9",
      "include_colab_link": true
    },
    "kernelspec": {
      "name": "python3",
      "display_name": "Python 3"
    },
    "language_info": {
      "name": "python"
    }
  },
  "cells": [
    {
      "cell_type": "markdown",
      "metadata": {
        "id": "view-in-github",
        "colab_type": "text"
      },
      "source": [
        "<a href=\"https://colab.research.google.com/github/Luis6097/Inteligencia-artificial-y-redes-neuronales/blob/main/Actividades/EjercicioPython_1.ipynb\" target=\"_parent\"><img src=\"https://colab.research.google.com/assets/colab-badge.svg\" alt=\"Open In Colab\"/></a>"
      ]
    },
    {
      "cell_type": "markdown",
      "source": [
        "Actividad 2: Diseño de algoritmos en Python\n",
        "\n",
        "---\n",
        "\n",
        "Luis Eduardo Tenorio Hernandez\n",
        "\n",
        "---\n",
        "\n",
        "\n",
        "2109186\n",
        "\n",
        "---\n",
        "\n",
        "\n",
        "N4\n",
        "\n"
      ],
      "metadata": {
        "id": "AgrQZKlTlWpM"
      }
    },
    {
      "cell_type": "markdown",
      "source": [
        "1."
      ],
      "metadata": {
        "id": "nBQlY5yqmHHL"
      }
    },
    {
      "cell_type": "code",
      "source": [
        "def saludar():\n",
        "    nombre = input(\"Por favor, ingresa tu nombre: \")\n",
        "\n",
        "    if nombre in [\"Ana\", \"Juan\", \"Pedro\"]:\n",
        "        print(\"¡Hola! Bienvenido.\")\n",
        "    else:\n",
        "        print(\"¡Hola\", nombre + \"!\", \"Bienvenido.\")\n",
        "\n",
        "saludar()\n"
      ],
      "metadata": {
        "colab": {
          "base_uri": "https://localhost:8080/"
        },
        "id": "RLM-_L8klzym",
        "outputId": "6246e2d7-9028-479b-b239-a5f56f8f94ae"
      },
      "execution_count": null,
      "outputs": [
        {
          "output_type": "stream",
          "name": "stdout",
          "text": [
            "Por favor, ingresa tu nombre: Luis\n",
            "¡Hola Luis! Bienvenido.\n"
          ]
        }
      ]
    },
    {
      "cell_type": "markdown",
      "source": [
        "2.\n"
      ],
      "metadata": {
        "id": "AXuqQAHwmD4f"
      }
    },
    {
      "cell_type": "code",
      "source": [
        "def invertir():\n",
        "    n = int(input(\"Ingrese el número de elementos en la lista: \"))\n",
        "    lista = []\n",
        "    for i in range(n):\n",
        "        elemento = input(\"Ingrese el elemento {}: \".format(i+1))\n",
        "        lista.append(elemento)\n",
        "\n",
        "    invertida = lista[::-1]\n",
        "\n",
        "    print(\"La lista invertida es:\", invertida)\n",
        "\n",
        "invertir()\n"
      ],
      "metadata": {
        "colab": {
          "base_uri": "https://localhost:8080/"
        },
        "id": "IpdaFZE-njf6",
        "outputId": "8fb65582-2cc9-4607-e846-5d4f6b2ee89a"
      },
      "execution_count": null,
      "outputs": [
        {
          "output_type": "stream",
          "name": "stdout",
          "text": [
            "Ingrese el número de elementos en la lista: 3\n",
            "Ingrese el elemento 1: 2\n",
            "Ingrese el elemento 2: 1\n",
            "Ingrese el elemento 3: 6\n",
            "La lista invertida es: ['6', '1', '2']\n"
          ]
        }
      ]
    },
    {
      "cell_type": "markdown",
      "source": [
        "3."
      ],
      "metadata": {
        "id": "MmC2PLLvojPW"
      }
    },
    {
      "cell_type": "code",
      "source": [
        "def fibonacci(n):\n",
        "    fib = [0, 1]\n",
        "    for i in range(2, n):\n",
        "        fib.append(fib[i-1] + fib[i-2])\n",
        "    return fib\n",
        "\n",
        "def serie_fibonacci():\n",
        "    cantidad = int(input(\"¿Cuántos números de la serie de Fibonacci quieres generar? \"))\n",
        "    if cantidad <= 0:\n",
        "        print(\"Por favor, ingresa un número positivo mayor que cero.\")\n",
        "        return\n",
        "\n",
        "    serie = fibonacci(cantidad)\n",
        "    print(\"La serie de Fibonacci con\", cantidad, \"números es:\")\n",
        "    print(serie)\n",
        "\n",
        "serie_fibonacci()\n"
      ],
      "metadata": {
        "colab": {
          "base_uri": "https://localhost:8080/"
        },
        "id": "8XikFfUOokNg",
        "outputId": "d520389a-bab5-4f99-c6c4-74d5a53e2f92"
      },
      "execution_count": null,
      "outputs": [
        {
          "output_type": "stream",
          "name": "stdout",
          "text": [
            "¿Cuántos números de la serie de Fibonacci quieres generar? 5\n",
            "La serie de Fibonacci con 5 números es:\n",
            "[0, 1, 1, 2, 3]\n"
          ]
        }
      ]
    },
    {
      "cell_type": "markdown",
      "source": [
        "4."
      ],
      "metadata": {
        "id": "r3syuUs8pVeG"
      }
    },
    {
      "cell_type": "code",
      "source": [
        "import random\n",
        "\n",
        "def adivina_numero():\n",
        "    numero_objetivo = random.randint(1, 100)\n",
        "    intentos = 0\n",
        "\n",
        "    print(\"¡Bienvenido al juego de adivinar el número!\")\n",
        "    print(\"Intenta adivinar un número entre 1 y 100.\")\n",
        "\n",
        "    while True:\n",
        "        intento = int(input(\"Ingresa tu intento: \"))\n",
        "        intentos += 1\n",
        "\n",
        "        if intento < numero_objetivo:\n",
        "            print(\"El número es mayor. Intenta nuevamente.\")\n",
        "        elif intento > numero_objetivo:\n",
        "            print(\"El número es menor. Intenta nuevamente.\")\n",
        "        else:\n",
        "            print(\"¡Felicidades! Has adivinado el número en {} intentos.\".format(intentos))\n",
        "            break\n",
        "\n",
        "adivina_numero()\n"
      ],
      "metadata": {
        "colab": {
          "base_uri": "https://localhost:8080/"
        },
        "id": "mGd-t-EdpWbA",
        "outputId": "678a651f-62d4-4c37-e4d1-73c4205efc16"
      },
      "execution_count": null,
      "outputs": [
        {
          "output_type": "stream",
          "name": "stdout",
          "text": [
            "¡Bienvenido al juego de adivinar el número!\n",
            "Intenta adivinar un número entre 1 y 100.\n",
            "Ingresa tu intento: 20\n",
            "El número es mayor. Intenta nuevamente.\n",
            "Ingresa tu intento: 50\n",
            "El número es menor. Intenta nuevamente.\n",
            "Ingresa tu intento: 30\n",
            "El número es mayor. Intenta nuevamente.\n",
            "Ingresa tu intento: 35\n",
            "El número es mayor. Intenta nuevamente.\n",
            "Ingresa tu intento: 40\n",
            "El número es mayor. Intenta nuevamente.\n",
            "Ingresa tu intento: 45\n",
            "El número es mayor. Intenta nuevamente.\n",
            "Ingresa tu intento: 48\n",
            "El número es mayor. Intenta nuevamente.\n",
            "Ingresa tu intento: 49\n",
            "¡Felicidades! Has adivinado el número en 8 intentos.\n"
          ]
        }
      ]
    },
    {
      "cell_type": "markdown",
      "source": [
        "5.\n"
      ],
      "metadata": {
        "id": "ygvg4LF2qFRB"
      }
    },
    {
      "cell_type": "code",
      "source": [
        "def es_primo(num):\n",
        "    if num < 2:\n",
        "        return False\n",
        "    for i in range(2, int(num**0.5) + 1):\n",
        "        if num % i == 0:\n",
        "            return False\n",
        "    return True\n",
        "\n",
        "def numeros_primos_en_rango():\n",
        "    inicio = int(input(\"Ingrese el inicio del rango: \"))\n",
        "    fin = int(input(\"Ingrese el final del rango: \"))\n",
        "\n",
        "    print(\"Números primos en el rango de\", inicio, \"a\", fin, \":\")\n",
        "\n",
        "    for num in range(inicio, fin + 1):\n",
        "        if es_primo(num):\n",
        "            print(num)\n",
        "\n",
        "numeros_primos_en_rango()\n"
      ],
      "metadata": {
        "colab": {
          "base_uri": "https://localhost:8080/"
        },
        "id": "0G09peTkqGm5",
        "outputId": "86c89ade-6c0d-44aa-ed58-6cd8b759ef78"
      },
      "execution_count": null,
      "outputs": [
        {
          "output_type": "stream",
          "name": "stdout",
          "text": [
            "Ingrese el inicio del rango: 1\n",
            "Ingrese el final del rango: 6\n",
            "Números primos en el rango de 1 a 6 :\n",
            "2\n",
            "3\n",
            "5\n"
          ]
        }
      ]
    },
    {
      "cell_type": "markdown",
      "source": [],
      "metadata": {
        "id": "_zKkDPabquD0"
      }
    },
    {
      "cell_type": "markdown",
      "source": [
        "6."
      ],
      "metadata": {
        "id": "dM0Hqz8Uq8cc"
      }
    },
    {
      "cell_type": "code",
      "source": [
        "def suma(num1, num2):\n",
        "    return num1 + num2\n",
        "\n",
        "def resta(num1, num2):\n",
        "    return num1 - num2\n",
        "\n",
        "def multiplicacion(num1, num2):\n",
        "    return num1 * num2\n",
        "\n",
        "def division(num1, num2):\n",
        "    if num2 == 0:\n",
        "        return \"Error: No se puede dividir entre cero\"\n",
        "    else:\n",
        "        return num1 / num2\n",
        "\n",
        "def calculadora():\n",
        "    num1 = float(input(\"Ingrese el primer número: \"))\n",
        "    num2 = float(input(\"Ingrese el segundo número: \"))\n",
        "\n",
        "    print(\"Seleccione la operación:\")\n",
        "    print(\"1. Suma\")\n",
        "    print(\"2. Resta\")\n",
        "    print(\"3. Multiplicación\")\n",
        "    print(\"4. División\")\n",
        "\n",
        "    opcion = input(\"Ingrese el número de la operación: \")\n",
        "\n",
        "    if opcion == '1':\n",
        "        print(\"El resultado de la suma es:\", suma(num1, num2))\n",
        "    elif opcion == '2':\n",
        "        print(\"El resultado de la resta es:\", resta(num1, num2))\n",
        "    elif opcion == '3':\n",
        "        print(\"El resultado de la multiplicación es:\", multiplicacion(num1, num2))\n",
        "    elif opcion == '4':\n",
        "        print(\"El resultado de la división es:\", division(num1, num2))\n",
        "    else:\n",
        "        print(\"Opción inválida. Por favor, seleccione una opción válida.\")\n",
        "\n",
        "calculadora()\n"
      ],
      "metadata": {
        "colab": {
          "base_uri": "https://localhost:8080/"
        },
        "id": "rRPk8dFDq9WA",
        "outputId": "fcd7c989-4e06-4add-96aa-15c903362c3f"
      },
      "execution_count": null,
      "outputs": [
        {
          "output_type": "stream",
          "name": "stdout",
          "text": [
            "Ingrese el primer número: 2\n",
            "Ingrese el segundo número: 6\n",
            "Seleccione la operación:\n",
            "1. Suma\n",
            "2. Resta\n",
            "3. Multiplicación\n",
            "4. División\n",
            "Ingrese el número de la operación: 3\n",
            "El resultado de la multiplicación es: 12.0\n"
          ]
        }
      ]
    }
  ]
}