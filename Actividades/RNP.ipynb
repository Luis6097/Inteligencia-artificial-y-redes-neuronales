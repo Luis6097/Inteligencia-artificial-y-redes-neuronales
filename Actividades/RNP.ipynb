{
  "nbformat": 4,
  "nbformat_minor": 0,
  "metadata": {
    "colab": {
      "provenance": []
    },
    "kernelspec": {
      "name": "python3",
      "display_name": "Python 3"
    },
    "language_info": {
      "name": "python"
    }
  },
  "cells": [
    {
      "cell_type": "markdown",
      "source": [
        "Actividad 5: Uso de software para búsqueda."
      ],
      "metadata": {
        "id": "h5qYx0XShB6i"
      }
    },
    {
      "cell_type": "markdown",
      "source": [
        "LUIS EDUARDO TENORIO HERNANDEZ, 2109186"
      ],
      "metadata": {
        "id": "X_RXjsXGg5qE"
      }
    },
    {
      "cell_type": "markdown",
      "source": [
        "N1"
      ],
      "metadata": {
        "id": "zVYiRiZGhTwj"
      }
    },
    {
      "cell_type": "code",
      "source": [
        "import numpy as np\n",
        "import tensorflow as tf\n",
        "from tensorflow.keras.datasets import mnist\n",
        "from tensorflow.keras.models import Sequential\n",
        "from tensorflow.keras.layers import Dense, Flatten\n",
        "\n",
        "(train_data, train_labels), (test_data, test_labels) = mnist.load_data()\n",
        "\n",
        "train_data = train_data / 255.0\n",
        "test_data = test_data / 255.0\n",
        "\n",
        "model = Sequential([\n",
        "    Flatten(input_shape=(28, 28)),\n",
        "    Dense(128, activation='relu'),\n",
        "    Dense(64, activation='relu'),\n",
        "    Dense(10, activation='softmax')\n",
        "])\n",
        "\n",
        "model.compile(optimizer='adam',\n",
        "              loss='sparse_categorical_crossentropy',\n",
        "              metrics=['accuracy'])\n",
        "\n",
        "model.fit(train_data, train_labels, epochs=5)\n",
        "\n",
        "test_loss, test_acc = model.evaluate(test_data, test_labels)\n",
        "print(\"Exactitud del modelo en el conjunto de prueba:\", test_acc)\n",
        "\n",
        "for i in range(5):\n",
        "    idx = np.random.randint(len(test_data))\n",
        "    img = test_data[idx]\n",
        "    true_label = test_labels[idx]\n",
        "\n",
        "    prediction = model.predict(np.expand_dims(img, axis=0))\n",
        "    predicted_label = np.argmax(prediction)\n",
        "\n",
        "    print(\"Predicción:\", predicted_label)\n",
        "    print(\"Valor real:\", true_label)\n"
      ],
      "metadata": {
        "colab": {
          "base_uri": "https://localhost:8080/"
        },
        "id": "Wfn0u80hgNrs",
        "outputId": "5ca5fd85-65db-4daf-ead2-d5e1c8f52232"
      },
      "execution_count": 3,
      "outputs": [
        {
          "output_type": "stream",
          "name": "stdout",
          "text": [
            "Epoch 1/5\n",
            "1875/1875 [==============================] - 5s 3ms/step - loss: 0.2386 - accuracy: 0.9299\n",
            "Epoch 2/5\n",
            "1875/1875 [==============================] - 5s 3ms/step - loss: 0.1020 - accuracy: 0.9686\n",
            "Epoch 3/5\n",
            "1875/1875 [==============================] - 5s 2ms/step - loss: 0.0718 - accuracy: 0.9779\n",
            "Epoch 4/5\n",
            "1875/1875 [==============================] - 6s 3ms/step - loss: 0.0538 - accuracy: 0.9827\n",
            "Epoch 5/5\n",
            "1875/1875 [==============================] - 5s 3ms/step - loss: 0.0428 - accuracy: 0.9859\n",
            "313/313 [==============================] - 1s 1ms/step - loss: 0.0738 - accuracy: 0.9783\n",
            "Exactitud del modelo en el conjunto de prueba: 0.9782999753952026\n",
            "1/1 [==============================] - 0s 56ms/step\n",
            "Predicción: 2\n",
            "Valor real: 2\n",
            "1/1 [==============================] - 0s 17ms/step\n",
            "Predicción: 5\n",
            "Valor real: 5\n",
            "1/1 [==============================] - 0s 17ms/step\n",
            "Predicción: 8\n",
            "Valor real: 8\n",
            "1/1 [==============================] - 0s 18ms/step\n",
            "Predicción: 4\n",
            "Valor real: 4\n",
            "1/1 [==============================] - 0s 18ms/step\n",
            "Predicción: 6\n",
            "Valor real: 6\n"
          ]
        }
      ]
    }
  ]
}