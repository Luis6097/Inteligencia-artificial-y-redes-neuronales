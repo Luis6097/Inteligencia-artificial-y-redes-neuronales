{
  "nbformat": 4,
  "nbformat_minor": 0,
  "metadata": {
    "colab": {
      "provenance": []
    },
    "kernelspec": {
      "name": "python3",
      "display_name": "Python 3"
    },
    "language_info": {
      "name": "python"
    }
  },
  "cells": [
    {
      "cell_type": "code",
      "execution_count": 2,
      "metadata": {
        "colab": {
          "base_uri": "https://localhost:8080/"
        },
        "id": "fyluG3d79JPN",
        "outputId": "f096c054-6225-4460-b154-ff2eacbf47e6"
      },
      "outputs": [
        {
          "output_type": "stream",
          "name": "stdout",
          "text": [
            "Epoch 1/5\n",
            "1875/1875 [==============================] - 58s 30ms/step - loss: 0.1460 - accuracy: 0.9546\n",
            "Epoch 2/5\n",
            "1875/1875 [==============================] - 57s 30ms/step - loss: 0.0459 - accuracy: 0.9855\n",
            "Epoch 3/5\n",
            "1875/1875 [==============================] - 55s 29ms/step - loss: 0.0320 - accuracy: 0.9898\n",
            "Epoch 4/5\n",
            "1875/1875 [==============================] - 55s 29ms/step - loss: 0.0250 - accuracy: 0.9922\n",
            "Epoch 5/5\n",
            "1875/1875 [==============================] - 55s 29ms/step - loss: 0.0196 - accuracy: 0.9936\n",
            "313/313 [==============================] - 3s 9ms/step - loss: 0.0278 - accuracy: 0.9910\n",
            "Exactitud del modelo en el conjunto de prueba: 0.9909999966621399\n",
            "1/1 [==============================] - 0s 79ms/step\n",
            "Predicción: 7\n",
            "Valor real: 7\n",
            "1/1 [==============================] - 0s 24ms/step\n",
            "Predicción: 5\n",
            "Valor real: 5\n",
            "1/1 [==============================] - 0s 21ms/step\n",
            "Predicción: 0\n",
            "Valor real: 0\n",
            "1/1 [==============================] - 0s 21ms/step\n",
            "Predicción: 4\n",
            "Valor real: 4\n",
            "1/1 [==============================] - 0s 21ms/step\n",
            "Predicción: 9\n",
            "Valor real: 9\n"
          ]
        }
      ],
      "source": [
        "import numpy as np\n",
        "import tensorflow as tf\n",
        "from tensorflow.keras.datasets import mnist\n",
        "from tensorflow.keras.models import Sequential\n",
        "from tensorflow.keras.layers import Conv2D, MaxPooling2D, Flatten, Dense\n",
        "\n",
        "(train_data, train_labels), (test_data, test_labels) = mnist.load_data()\n",
        "\n",
        "train_data = train_data.reshape((train_data.shape[0], 28, 28, 1)) / 255.0\n",
        "test_data = test_data.reshape((test_data.shape[0], 28, 28, 1)) / 255.0\n",
        "\n",
        "model = Sequential([\n",
        "    Conv2D(32, (3, 3), activation='relu', input_shape=(28, 28, 1)),\n",
        "    MaxPooling2D((2, 2)),\n",
        "    Conv2D(64, (3, 3), activation='relu'),\n",
        "    MaxPooling2D((2, 2)),\n",
        "    Conv2D(64, (3, 3), activation='relu'),\n",
        "    Flatten(),\n",
        "    Dense(64, activation='relu'),\n",
        "    Dense(10, activation='softmax')\n",
        "])\n",
        "\n",
        "model.compile(optimizer='adam',\n",
        "              loss='sparse_categorical_crossentropy',\n",
        "              metrics=['accuracy'])\n",
        "\n",
        "model.fit(train_data, train_labels, epochs=5)\n",
        "\n",
        "test_loss, test_acc = model.evaluate(test_data, test_labels)\n",
        "print(\"Exactitud del modelo en el conjunto de prueba:\", test_acc)\n",
        "\n",
        "for i in range(5):\n",
        "    idx = np.random.randint(len(test_data))\n",
        "    img = test_data[idx]\n",
        "    true_label = test_labels[idx]\n",
        "\n",
        "    prediction = model.predict(np.expand_dims(img, axis=0))\n",
        "    predicted_label = np.argmax(prediction)\n",
        "\n",
        "    print(\"Predicción:\", predicted_label)\n",
        "    print(\"Valor real:\", true_label)"
      ]
    },
    {
      "cell_type": "markdown",
      "source": [
        "Épocas utilizadas para mejorar el rendimiento: En este caso, he utilizado 5 épocas para entrenar el modelo. Esta es la misma cantidad de épocas que se usaron para la red neuronal prealimentada en la actividad anterior.\n",
        "\n",
        "Comparación de rendimiento: Generalmente, se espera que el rendimiento sea mejor que el de una red neuronal prealimentada para tareas de visión por computadora como la clasificación de imágenes. Esto se debe a que están especialmente diseñadas para trabajar con datos de imagen y pueden capturar patrones espaciales en las imágenes de manera más efectiva que las redes neuronales prealimentadas estándar. Por lo tanto, es probable que se obtenga un mejor rendimiento con este modelo en comparación con el modelo de la actividad anterior."
      ],
      "metadata": {
        "id": "PATqiRBnAcZ6"
      }
    }
  ]
}